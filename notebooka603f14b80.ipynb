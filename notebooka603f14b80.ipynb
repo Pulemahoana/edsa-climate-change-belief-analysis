{
 "cells": [
  {
   "cell_type": "code",
   "execution_count": 1,
   "metadata": {
    "_cell_guid": "b1076dfc-b9ad-4769-8c92-a6c4dae69d19",
    "_uuid": "8f2839f25d086af736a60e9eeb907d3b93b6e0e5",
    "execution": {
     "iopub.execute_input": "2020-10-19T18:44:48.864557Z",
     "iopub.status.busy": "2020-10-19T18:44:48.863925Z",
     "iopub.status.idle": "2020-10-19T18:44:50.488677Z",
     "shell.execute_reply": "2020-10-19T18:44:50.489277Z"
    },
    "papermill": {
     "duration": 1.644923,
     "end_time": "2020-10-19T18:44:50.489437",
     "exception": false,
     "start_time": "2020-10-19T18:44:48.844514",
     "status": "completed"
    },
    "tags": []
   },
   "outputs": [],
   "source": [
    "import pandas as pd\n",
    "import numpy as np\n",
    "import nltk\n",
    "import string\n",
    "import re\n",
    "from sklearn.feature_extraction.text import TfidfVectorizer\n",
    "from sklearn.linear_model import LogisticRegression\n",
    "from sklearn.naive_bayes import MultinomialNB\n",
    "from sklearn.ensemble import RandomForestClassifier, AdaBoostClassifier\n",
    "from sklearn.svm import LinearSVC\n",
    "from sklearn.model_selection import train_test_split\n",
    "from sklearn.naive_bayes import MultinomialNB\n",
    "from nltk.stem import WordNetLemmatizer\n",
    "from nltk.corpus import stopwords\n",
    "\n",
    "from sklearn.metrics import f1_score\n",
    "\n",
    "import seaborn as sns\n",
    "import matplotlib.pyplot as plt\n",
    "%matplotlib inline"
   ]
  },
  {
   "cell_type": "markdown",
   "metadata": {
    "papermill": {
     "duration": 0.012205,
     "end_time": "2020-10-19T18:44:50.516938",
     "exception": false,
     "start_time": "2020-10-19T18:44:50.504733",
     "status": "completed"
    },
    "tags": []
   },
   "source": [
    "# **Load in my data from kaggle.**"
   ]
  },
  {
   "cell_type": "code",
   "execution_count": 2,
   "metadata": {
    "_cell_guid": "79c7e3d0-c299-4dcb-8224-4455121ee9b0",
    "_uuid": "d629ff2d2480ee46fbb7e2d37f6b5fab8052498a",
    "execution": {
     "iopub.execute_input": "2020-10-19T18:44:50.557383Z",
     "iopub.status.busy": "2020-10-19T18:44:50.555582Z",
     "iopub.status.idle": "2020-10-19T18:44:50.613440Z",
     "shell.execute_reply": "2020-10-19T18:44:50.612683Z"
    },
    "papermill": {
     "duration": 0.081306,
     "end_time": "2020-10-19T18:44:50.613541",
     "exception": false,
     "start_time": "2020-10-19T18:44:50.532235",
     "status": "completed"
    },
    "tags": []
   },
   "outputs": [],
   "source": [
    "train = pd.read_csv('../input/climate-change-edsa2020-21/train.csv')\n",
    "test = pd.read_csv('../input/climate-change-edsa2020-21/test.csv')"
   ]
  },
  {
   "cell_type": "code",
   "execution_count": 3,
   "metadata": {
    "execution": {
     "iopub.execute_input": "2020-10-19T18:44:50.650157Z",
     "iopub.status.busy": "2020-10-19T18:44:50.649634Z",
     "iopub.status.idle": "2020-10-19T18:44:50.657257Z",
     "shell.execute_reply": "2020-10-19T18:44:50.656839Z"
    },
    "papermill": {
     "duration": 0.028087,
     "end_time": "2020-10-19T18:44:50.657328",
     "exception": false,
     "start_time": "2020-10-19T18:44:50.629241",
     "status": "completed"
    },
    "tags": []
   },
   "outputs": [
    {
     "data": {
      "text/plain": [
       " 1    8530\n",
       " 2    3640\n",
       " 0    2353\n",
       "-1    1296\n",
       "Name: sentiment, dtype: int64"
      ]
     },
     "execution_count": 3,
     "metadata": {},
     "output_type": "execute_result"
    }
   ],
   "source": [
    "train.sentiment.value_counts()"
   ]
  },
  {
   "cell_type": "markdown",
   "metadata": {
    "papermill": {
     "duration": 0.011692,
     "end_time": "2020-10-19T18:44:50.681149",
     "exception": false,
     "start_time": "2020-10-19T18:44:50.669457",
     "status": "completed"
    },
    "tags": []
   },
   "source": [
    "# Splitting out the X variable from the target****"
   ]
  },
  {
   "cell_type": "code",
   "execution_count": 4,
   "metadata": {
    "execution": {
     "iopub.execute_input": "2020-10-19T18:44:50.714206Z",
     "iopub.status.busy": "2020-10-19T18:44:50.713414Z",
     "iopub.status.idle": "2020-10-19T18:44:50.715821Z",
     "shell.execute_reply": "2020-10-19T18:44:50.715348Z"
    },
    "papermill": {
     "duration": 0.02294,
     "end_time": "2020-10-19T18:44:50.715903",
     "exception": false,
     "start_time": "2020-10-19T18:44:50.692963",
     "status": "completed"
    },
    "tags": []
   },
   "outputs": [],
   "source": [
    "y = train['sentiment']\n",
    "X = train['message']"
   ]
  },
  {
   "cell_type": "markdown",
   "metadata": {
    "papermill": {
     "duration": 0.012633,
     "end_time": "2020-10-19T18:44:50.742219",
     "exception": false,
     "start_time": "2020-10-19T18:44:50.729586",
     "status": "completed"
    },
    "tags": []
   },
   "source": [
    "> > *Removing special characters and normalize certain words*"
   ]
  },
  {
   "cell_type": "code",
   "execution_count": 5,
   "metadata": {
    "execution": {
     "iopub.execute_input": "2020-10-19T18:44:50.771120Z",
     "iopub.status.busy": "2020-10-19T18:44:50.770688Z",
     "iopub.status.idle": "2020-10-19T18:44:50.773638Z",
     "shell.execute_reply": "2020-10-19T18:44:50.773258Z"
    },
    "papermill": {
     "duration": 0.019673,
     "end_time": "2020-10-19T18:44:50.773706",
     "exception": false,
     "start_time": "2020-10-19T18:44:50.754033",
     "status": "completed"
    },
    "tags": []
   },
   "outputs": [],
   "source": [
    "# init stemmer\n",
    "from nltk.stem import PorterStemmer\n",
    "po_stemmer= PorterStemmer()\n",
    "\n",
    "def preprocessor(txt):\n",
    "    \n",
    "    txt=txt.lower() \n",
    "    txt=re.sub(\"\\\\W\",\" \",txt)\n",
    "    txt=re.sub(\"\\\\s+(in|the|all|for|and|on)\\\\s+\",\" _connector_ \",txt)\n",
    "    \n",
    "    # stem words\n",
    "    final_words=re.split(\"\\\\s+\",txt)\n",
    "    s_words=[po_stemmer.stem(word=word) for word in final_words]\n",
    "    return ' '.join(s_words)"
   ]
  },
  {
   "cell_type": "markdown",
   "metadata": {
    "papermill": {
     "duration": 0.012123,
     "end_time": "2020-10-19T18:44:50.797748",
     "exception": false,
     "start_time": "2020-10-19T18:44:50.785625",
     "status": "completed"
    },
    "tags": []
   },
   "source": [
    "> > **Creating space between special characters and removing special characters****\n"
   ]
  },
  {
   "cell_type": "code",
   "execution_count": 6,
   "metadata": {
    "execution": {
     "iopub.execute_input": "2020-10-19T18:44:50.826115Z",
     "iopub.status.busy": "2020-10-19T18:44:50.825684Z",
     "iopub.status.idle": "2020-10-19T18:44:50.828337Z",
     "shell.execute_reply": "2020-10-19T18:44:50.827943Z"
    },
    "papermill": {
     "duration": 0.018768,
     "end_time": "2020-10-19T18:44:50.828410",
     "exception": false,
     "start_time": "2020-10-19T18:44:50.809642",
     "status": "completed"
    },
    "tags": []
   },
   "outputs": [],
   "source": [
    "def tkenizer(txt):\n",
    "    txt=re.sub(\"(\\\\W)\",\" \\\\1 \",txt)\n",
    "    return re.split(\"\\\\s+\",txt)"
   ]
  },
  {
   "cell_type": "markdown",
   "metadata": {
    "papermill": {
     "duration": 0.012116,
     "end_time": "2020-10-19T18:44:50.852938",
     "exception": false,
     "start_time": "2020-10-19T18:44:50.840822",
     "status": "completed"
    },
    "tags": []
   },
   "source": [
    "# Turning text into something a model can read"
   ]
  },
  {
   "cell_type": "code",
   "execution_count": 7,
   "metadata": {
    "execution": {
     "iopub.execute_input": "2020-10-19T18:44:50.890537Z",
     "iopub.status.busy": "2020-10-19T18:44:50.885305Z",
     "iopub.status.idle": "2020-10-19T18:44:58.302702Z",
     "shell.execute_reply": "2020-10-19T18:44:58.302090Z"
    },
    "papermill": {
     "duration": 7.437335,
     "end_time": "2020-10-19T18:44:58.302814",
     "exception": false,
     "start_time": "2020-10-19T18:44:50.865479",
     "status": "completed"
    },
    "tags": []
   },
   "outputs": [
    {
     "name": "stderr",
     "output_type": "stream",
     "text": [
      "/opt/conda/lib/python3.7/site-packages/sklearn/feature_extraction/text.py:386: UserWarning: Your stop_words may be inconsistent with your preprocessing. Tokenizing the stop words generated tokens ['abov', 'afterward', 'alon', 'alreadi', 'alway', 'ani', 'anoth', 'anyon', 'anyth', 'anywher', 'becam', 'becaus', 'becom', 'befor', 'besid', 'cri', 'describ', 'dure', 'els', 'elsewher', 'empti', 'everi', 'everyon', 'everyth', 'everywher', 'fifti', 'formerli', 'forti', 'ha', 'henc', 'hereaft', 'herebi', 'hi', 'howev', 'hundr', 'inde', 'latterli', 'mani', 'meanwhil', 'moreov', 'mostli', 'nobodi', 'noon', 'noth', 'nowher', 'onc', 'onli', 'otherwis', 'ourselv', 'perhap', 'pleas', 'seriou', 'sever', 'sinc', 'sincer', 'sixti', 'someon', 'someth', 'sometim', 'somewher', 'themselv', 'thenc', 'thereaft', 'therebi', 'therefor', 'thi', 'thu', 'togeth', 'twelv', 'twenti', 'veri', 'wa', 'whatev', 'whenc', 'whenev', 'wherea', 'whereaft', 'wherebi', 'wherev', 'whi', 'yourselv'] not in stop_words.\n",
      "  'stop_words.' % sorted(inconsistent))\n"
     ]
    }
   ],
   "source": [
    "\n",
    "vectorizer = TfidfVectorizer(ngram_range=(1,2),tokenizer=tkenizer,smooth_idf=False, min_df=2,max_df=0.80,analyzer='word', preprocessor=preprocessor,stop_words=\"english\")\n",
    "X_vectorized = vectorizer.fit_transform(X)"
   ]
  },
  {
   "cell_type": "markdown",
   "metadata": {
    "papermill": {
     "duration": 0.019815,
     "end_time": "2020-10-19T18:44:58.342587",
     "exception": false,
     "start_time": "2020-10-19T18:44:58.322772",
     "status": "completed"
    },
    "tags": []
   },
   "source": [
    "# **Splitting the training data into a training and validation set**"
   ]
  },
  {
   "cell_type": "code",
   "execution_count": 8,
   "metadata": {
    "execution": {
     "iopub.execute_input": "2020-10-19T18:44:58.387371Z",
     "iopub.status.busy": "2020-10-19T18:44:58.386815Z",
     "iopub.status.idle": "2020-10-19T18:44:58.403755Z",
     "shell.execute_reply": "2020-10-19T18:44:58.403232Z"
    },
    "papermill": {
     "duration": 0.040607,
     "end_time": "2020-10-19T18:44:58.403860",
     "exception": false,
     "start_time": "2020-10-19T18:44:58.363253",
     "status": "completed"
    },
    "tags": []
   },
   "outputs": [],
   "source": [
    "X_train,X_val,y_train,y_val = train_test_split(X_vectorized,y,test_size=.3,shuffle=True, stratify=y, random_state=11)"
   ]
  },
  {
   "cell_type": "markdown",
   "metadata": {
    "papermill": {
     "duration": 0.013493,
     "end_time": "2020-10-19T18:44:58.431240",
     "exception": false,
     "start_time": "2020-10-19T18:44:58.417747",
     "status": "completed"
    },
    "tags": []
   },
   "source": [
    "# **Training the model and evaluating using the validation set**"
   ]
  },
  {
   "cell_type": "code",
   "execution_count": 9,
   "metadata": {
    "execution": {
     "iopub.execute_input": "2020-10-19T18:44:58.464098Z",
     "iopub.status.busy": "2020-10-19T18:44:58.463558Z",
     "iopub.status.idle": "2020-10-19T18:44:58.680788Z",
     "shell.execute_reply": "2020-10-19T18:44:58.680337Z"
    },
    "papermill": {
     "duration": 0.235655,
     "end_time": "2020-10-19T18:44:58.680865",
     "exception": false,
     "start_time": "2020-10-19T18:44:58.445210",
     "status": "completed"
    },
    "tags": []
   },
   "outputs": [],
   "source": [
    "lisvc = LinearSVC()\n",
    "lisvc.fit(X_train, y_train)\n",
    "lisvc_pred = lisvc.predict(X_val)"
   ]
  },
  {
   "cell_type": "markdown",
   "metadata": {
    "papermill": {
     "duration": 0.012258,
     "end_time": "2020-10-19T18:44:58.706011",
     "exception": false,
     "start_time": "2020-10-19T18:44:58.693753",
     "status": "completed"
    },
    "tags": []
   },
   "source": [
    "# **Checking the performance of our model on the validation set**\n"
   ]
  },
  {
   "cell_type": "code",
   "execution_count": 10,
   "metadata": {
    "execution": {
     "iopub.execute_input": "2020-10-19T18:44:58.735496Z",
     "iopub.status.busy": "2020-10-19T18:44:58.734898Z",
     "iopub.status.idle": "2020-10-19T18:44:58.741826Z",
     "shell.execute_reply": "2020-10-19T18:44:58.741287Z"
    },
    "papermill": {
     "duration": 0.02357,
     "end_time": "2020-10-19T18:44:58.741904",
     "exception": false,
     "start_time": "2020-10-19T18:44:58.718334",
     "status": "completed"
    },
    "tags": []
   },
   "outputs": [
    {
     "data": {
      "text/plain": [
       "0.6445753117945924"
      ]
     },
     "execution_count": 10,
     "metadata": {},
     "output_type": "execute_result"
    }
   ],
   "source": [
    "f1_score(y_val, lisvc_pred, average=\"macro\")"
   ]
  },
  {
   "cell_type": "code",
   "execution_count": 11,
   "metadata": {
    "execution": {
     "iopub.execute_input": "2020-10-19T18:44:58.785283Z",
     "iopub.status.busy": "2020-10-19T18:44:58.784565Z",
     "iopub.status.idle": "2020-10-19T18:44:58.798005Z",
     "shell.execute_reply": "2020-10-19T18:44:58.797402Z"
    },
    "papermill": {
     "duration": 0.036771,
     "end_time": "2020-10-19T18:44:58.798122",
     "exception": false,
     "start_time": "2020-10-19T18:44:58.761351",
     "status": "completed"
    },
    "tags": []
   },
   "outputs": [
    {
     "name": "stdout",
     "output_type": "stream",
     "text": [
      "              precision    recall  f1-score   support\n",
      "\n",
      "          -1       0.69      0.42      0.53       389\n",
      "           0       0.57      0.42      0.48       706\n",
      "           1       0.76      0.86      0.81      2559\n",
      "           2       0.77      0.75      0.76      1092\n",
      "\n",
      "    accuracy                           0.74      4746\n",
      "   macro avg       0.70      0.61      0.64      4746\n",
      "weighted avg       0.73      0.74      0.73      4746\n",
      "\n"
     ]
    }
   ],
   "source": [
    "from sklearn import metrics\n",
    "\n",
    "print(metrics.classification_report(y_val, lisvc_pred))\n"
   ]
  },
  {
   "cell_type": "markdown",
   "metadata": {
    "papermill": {
     "duration": 0.014167,
     "end_time": "2020-10-19T18:44:58.827927",
     "exception": false,
     "start_time": "2020-10-19T18:44:58.813760",
     "status": "completed"
    },
    "tags": []
   },
   "source": [
    "# **Getting our test set ready**\n"
   ]
  },
  {
   "cell_type": "code",
   "execution_count": 12,
   "metadata": {
    "execution": {
     "iopub.execute_input": "2020-10-19T18:44:58.873563Z",
     "iopub.status.busy": "2020-10-19T18:44:58.868441Z",
     "iopub.status.idle": "2020-10-19T18:45:03.633272Z",
     "shell.execute_reply": "2020-10-19T18:45:03.632878Z"
    },
    "papermill": {
     "duration": 4.792152,
     "end_time": "2020-10-19T18:45:03.633361",
     "exception": false,
     "start_time": "2020-10-19T18:44:58.841209",
     "status": "completed"
    },
    "tags": []
   },
   "outputs": [],
   "source": [
    "x_test = test['message']\n",
    "test_vect = vectorizer.transform(x_test)"
   ]
  },
  {
   "cell_type": "markdown",
   "metadata": {
    "papermill": {
     "duration": 0.014267,
     "end_time": "2020-10-19T18:45:03.662012",
     "exception": false,
     "start_time": "2020-10-19T18:45:03.647745",
     "status": "completed"
    },
    "tags": []
   },
   "source": [
    "# **Making predictions on the test set and adding a sentiment column to our original test dataframe**"
   ]
  },
  {
   "cell_type": "code",
   "execution_count": 13,
   "metadata": {
    "execution": {
     "iopub.execute_input": "2020-10-19T18:45:03.697000Z",
     "iopub.status.busy": "2020-10-19T18:45:03.696509Z",
     "iopub.status.idle": "2020-10-19T18:45:03.701576Z",
     "shell.execute_reply": "2020-10-19T18:45:03.701195Z"
    },
    "papermill": {
     "duration": 0.024205,
     "end_time": "2020-10-19T18:45:03.701668",
     "exception": false,
     "start_time": "2020-10-19T18:45:03.677463",
     "status": "completed"
    },
    "tags": []
   },
   "outputs": [],
   "source": [
    "y_pred = lisvc.predict(test_vect)"
   ]
  },
  {
   "cell_type": "code",
   "execution_count": 14,
   "metadata": {
    "execution": {
     "iopub.execute_input": "2020-10-19T18:45:03.735805Z",
     "iopub.status.busy": "2020-10-19T18:45:03.735332Z",
     "iopub.status.idle": "2020-10-19T18:45:03.738955Z",
     "shell.execute_reply": "2020-10-19T18:45:03.738563Z"
    },
    "papermill": {
     "duration": 0.022499,
     "end_time": "2020-10-19T18:45:03.739043",
     "exception": false,
     "start_time": "2020-10-19T18:45:03.716544",
     "status": "completed"
    },
    "tags": []
   },
   "outputs": [],
   "source": [
    "test['sentiment'] = y_pred"
   ]
  },
  {
   "cell_type": "code",
   "execution_count": 15,
   "metadata": {
    "execution": {
     "iopub.execute_input": "2020-10-19T18:45:03.776190Z",
     "iopub.status.busy": "2020-10-19T18:45:03.775658Z",
     "iopub.status.idle": "2020-10-19T18:45:03.785043Z",
     "shell.execute_reply": "2020-10-19T18:45:03.784529Z"
    },
    "papermill": {
     "duration": 0.031134,
     "end_time": "2020-10-19T18:45:03.785143",
     "exception": false,
     "start_time": "2020-10-19T18:45:03.754009",
     "status": "completed"
    },
    "tags": []
   },
   "outputs": [
    {
     "data": {
      "text/html": [
       "<div>\n",
       "<style scoped>\n",
       "    .dataframe tbody tr th:only-of-type {\n",
       "        vertical-align: middle;\n",
       "    }\n",
       "\n",
       "    .dataframe tbody tr th {\n",
       "        vertical-align: top;\n",
       "    }\n",
       "\n",
       "    .dataframe thead th {\n",
       "        text-align: right;\n",
       "    }\n",
       "</style>\n",
       "<table border=\"1\" class=\"dataframe\">\n",
       "  <thead>\n",
       "    <tr style=\"text-align: right;\">\n",
       "      <th></th>\n",
       "      <th>message</th>\n",
       "      <th>tweetid</th>\n",
       "      <th>sentiment</th>\n",
       "    </tr>\n",
       "  </thead>\n",
       "  <tbody>\n",
       "    <tr>\n",
       "      <th>0</th>\n",
       "      <td>Europe will now be looking to China to make su...</td>\n",
       "      <td>169760</td>\n",
       "      <td>1</td>\n",
       "    </tr>\n",
       "    <tr>\n",
       "      <th>1</th>\n",
       "      <td>Combine this with the polling of staffers re c...</td>\n",
       "      <td>35326</td>\n",
       "      <td>0</td>\n",
       "    </tr>\n",
       "    <tr>\n",
       "      <th>2</th>\n",
       "      <td>The scary, unimpeachable evidence that climate...</td>\n",
       "      <td>224985</td>\n",
       "      <td>1</td>\n",
       "    </tr>\n",
       "    <tr>\n",
       "      <th>3</th>\n",
       "      <td>@Karoli @morgfair @OsborneInk @dailykos \\nPuti...</td>\n",
       "      <td>476263</td>\n",
       "      <td>1</td>\n",
       "    </tr>\n",
       "    <tr>\n",
       "      <th>4</th>\n",
       "      <td>RT @FakeWillMoore: 'Female orgasms cause globa...</td>\n",
       "      <td>872928</td>\n",
       "      <td>0</td>\n",
       "    </tr>\n",
       "  </tbody>\n",
       "</table>\n",
       "</div>"
      ],
      "text/plain": [
       "                                             message  tweetid  sentiment\n",
       "0  Europe will now be looking to China to make su...   169760          1\n",
       "1  Combine this with the polling of staffers re c...    35326          0\n",
       "2  The scary, unimpeachable evidence that climate...   224985          1\n",
       "3  @Karoli @morgfair @OsborneInk @dailykos \\nPuti...   476263          1\n",
       "4  RT @FakeWillMoore: 'Female orgasms cause globa...   872928          0"
      ]
     },
     "execution_count": 15,
     "metadata": {},
     "output_type": "execute_result"
    }
   ],
   "source": [
    "test.head()"
   ]
  },
  {
   "cell_type": "markdown",
   "metadata": {
    "papermill": {
     "duration": 0.014984,
     "end_time": "2020-10-19T18:45:03.815626",
     "exception": false,
     "start_time": "2020-10-19T18:45:03.800642",
     "status": "completed"
    },
    "tags": []
   },
   "source": [
    "# **Creating an output csv for submission**"
   ]
  },
  {
   "cell_type": "code",
   "execution_count": 16,
   "metadata": {
    "execution": {
     "iopub.execute_input": "2020-10-19T18:45:03.852716Z",
     "iopub.status.busy": "2020-10-19T18:45:03.851814Z",
     "iopub.status.idle": "2020-10-19T18:45:04.118275Z",
     "shell.execute_reply": "2020-10-19T18:45:04.117753Z"
    },
    "papermill": {
     "duration": 0.287338,
     "end_time": "2020-10-19T18:45:04.118371",
     "exception": false,
     "start_time": "2020-10-19T18:45:03.831033",
     "status": "completed"
    },
    "tags": []
   },
   "outputs": [],
   "source": [
    "test[['tweetid','sentiment']].to_csv('test_submission.csv', index=False)"
   ]
  },
  {
   "cell_type": "code",
   "execution_count": null,
   "metadata": {
    "papermill": {
     "duration": 0.014941,
     "end_time": "2020-10-19T18:45:04.148572",
     "exception": false,
     "start_time": "2020-10-19T18:45:04.133631",
     "status": "completed"
    },
    "tags": []
   },
   "outputs": [],
   "source": []
  }
 ],
 "metadata": {
  "kernelspec": {
   "display_name": "Python 3",
   "language": "python",
   "name": "python3"
  },
  "language_info": {
   "codemirror_mode": {
    "name": "ipython",
    "version": 3
   },
   "file_extension": ".py",
   "mimetype": "text/x-python",
   "name": "python",
   "nbconvert_exporter": "python",
   "pygments_lexer": "ipython3",
   "version": "3.7.6"
  },
  "papermill": {
   "duration": 18.960075,
   "end_time": "2020-10-19T18:45:04.271770",
   "environment_variables": {},
   "exception": null,
   "input_path": "__notebook__.ipynb",
   "output_path": "__notebook__.ipynb",
   "parameters": {},
   "start_time": "2020-10-19T18:44:45.311695",
   "version": "2.1.0"
  }
 },
 "nbformat": 4,
 "nbformat_minor": 4
}
