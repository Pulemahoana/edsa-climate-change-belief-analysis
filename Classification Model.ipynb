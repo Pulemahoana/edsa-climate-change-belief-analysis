{
 "cells": [
  {
   "cell_type": "code",
   "execution_count": 1,
   "metadata": {
    "_cell_guid": "79c7e3d0-c299-4dcb-8224-4455121ee9b0",
    "_uuid": "d629ff2d2480ee46fbb7e2d37f6b5fab8052498a",
    "execution": {
     "iopub.execute_input": "2020-10-19T14:17:42.440518Z",
     "iopub.status.busy": "2020-10-19T14:17:42.439395Z",
     "iopub.status.idle": "2020-10-19T14:17:45.298179Z",
     "shell.execute_reply": "2020-10-19T14:17:45.298877Z"
    },
    "papermill": {
     "duration": 2.892489,
     "end_time": "2020-10-19T14:17:45.299118",
     "exception": false,
     "start_time": "2020-10-19T14:17:42.406629",
     "status": "completed"
    },
    "tags": []
   },
   "outputs": [],
   "source": [
    "import pandas as pd\n",
    "import numpy as np\n",
    "import nltk\n",
    "import string\n",
    "import re\n",
    "from sklearn.feature_extraction.text import TfidfVectorizer\n",
    "from sklearn.linear_model import LogisticRegression\n",
    "from sklearn.naive_bayes import MultinomialNB\n",
    "from sklearn.ensemble import RandomForestClassifier, AdaBoostClassifier\n",
    "from sklearn.svm import LinearSVC\n",
    "from sklearn.model_selection import train_test_split\n",
    "from sklearn.naive_bayes import MultinomialNB\n",
    "from nltk.stem import WordNetLemmatizer\n",
    "from nltk.corpus import stopwords\n",
    "\n",
    "from sklearn.metrics import f1_score\n",
    "\n",
    "import seaborn as sns\n",
    "import matplotlib.pyplot as plt\n",
    "%matplotlib inline"
   ]
  },
  {
   "cell_type": "markdown",
   "metadata": {
    "papermill": {
     "duration": 0.018054,
     "end_time": "2020-10-19T14:17:45.335192",
     "exception": false,
     "start_time": "2020-10-19T14:17:45.317138",
     "status": "completed"
    },
    "tags": []
   },
   "source": [
    "# **Load in my data from kaggle.**\n"
   ]
  },
  {
   "cell_type": "code",
   "execution_count": 2,
   "metadata": {
    "execution": {
     "iopub.execute_input": "2020-10-19T14:17:45.388287Z",
     "iopub.status.busy": "2020-10-19T14:17:45.387259Z",
     "iopub.status.idle": "2020-10-19T14:17:45.478880Z",
     "shell.execute_reply": "2020-10-19T14:17:45.479748Z"
    },
    "papermill": {
     "duration": 0.127888,
     "end_time": "2020-10-19T14:17:45.479932",
     "exception": false,
     "start_time": "2020-10-19T14:17:45.352044",
     "status": "completed"
    },
    "tags": []
   },
   "outputs": [],
   "source": [
    "train = pd.read_csv('../input/climatechangeedsa2020onlinestd/train.csv')\n",
    "test = pd.read_csv('../input/climatechangeedsa2020onlinestd/test.csv')"
   ]
  },
  {
   "cell_type": "code",
   "execution_count": 3,
   "metadata": {
    "execution": {
     "iopub.execute_input": "2020-10-19T14:17:45.536873Z",
     "iopub.status.busy": "2020-10-19T14:17:45.526749Z",
     "iopub.status.idle": "2020-10-19T14:17:45.542849Z",
     "shell.execute_reply": "2020-10-19T14:17:45.542209Z"
    },
    "papermill": {
     "duration": 0.046052,
     "end_time": "2020-10-19T14:17:45.542989",
     "exception": false,
     "start_time": "2020-10-19T14:17:45.496937",
     "status": "completed"
    },
    "tags": []
   },
   "outputs": [
    {
     "data": {
      "text/plain": [
       " 1    8530\n",
       " 2    3640\n",
       " 0    2353\n",
       "-1    1296\n",
       "Name: sentiment, dtype: int64"
      ]
     },
     "execution_count": 3,
     "metadata": {},
     "output_type": "execute_result"
    }
   ],
   "source": [
    "train.sentiment.value_counts()"
   ]
  },
  {
   "cell_type": "markdown",
   "metadata": {
    "papermill": {
     "duration": 0.017696,
     "end_time": "2020-10-19T14:17:45.579264",
     "exception": false,
     "start_time": "2020-10-19T14:17:45.561568",
     "status": "completed"
    },
    "tags": []
   },
   "source": [
    "# Splitting out the X variable from the target****"
   ]
  },
  {
   "cell_type": "code",
   "execution_count": 4,
   "metadata": {
    "execution": {
     "iopub.execute_input": "2020-10-19T14:17:45.621539Z",
     "iopub.status.busy": "2020-10-19T14:17:45.620327Z",
     "iopub.status.idle": "2020-10-19T14:17:45.624860Z",
     "shell.execute_reply": "2020-10-19T14:17:45.624090Z"
    },
    "papermill": {
     "duration": 0.028246,
     "end_time": "2020-10-19T14:17:45.624992",
     "exception": false,
     "start_time": "2020-10-19T14:17:45.596746",
     "status": "completed"
    },
    "tags": []
   },
   "outputs": [],
   "source": [
    "y = train['sentiment']\n",
    "X = train['message']"
   ]
  },
  {
   "cell_type": "markdown",
   "metadata": {
    "papermill": {
     "duration": 0.018957,
     "end_time": "2020-10-19T14:17:45.662989",
     "exception": false,
     "start_time": "2020-10-19T14:17:45.644032",
     "status": "completed"
    },
    "tags": []
   },
   "source": [
    "# Turning text into something a model can read"
   ]
  },
  {
   "cell_type": "code",
   "execution_count": 5,
   "metadata": {
    "execution": {
     "iopub.execute_input": "2020-10-19T14:17:45.713357Z",
     "iopub.status.busy": "2020-10-19T14:17:45.708140Z",
     "iopub.status.idle": "2020-10-19T14:17:46.866446Z",
     "shell.execute_reply": "2020-10-19T14:17:46.865605Z"
    },
    "papermill": {
     "duration": 1.184903,
     "end_time": "2020-10-19T14:17:46.866621",
     "exception": false,
     "start_time": "2020-10-19T14:17:45.681718",
     "status": "completed"
    },
    "tags": []
   },
   "outputs": [],
   "source": [
    "vectorizer = TfidfVectorizer(ngram_range=(1,2), min_df=2, stop_words=\"english\")\n",
    "X_vectorized = vectorizer.fit_transform(X)"
   ]
  },
  {
   "cell_type": "markdown",
   "metadata": {
    "papermill": {
     "duration": 0.01719,
     "end_time": "2020-10-19T14:17:46.901711",
     "exception": false,
     "start_time": "2020-10-19T14:17:46.884521",
     "status": "completed"
    },
    "tags": []
   },
   "source": [
    "# **Splitting the training data into a training and validation set**"
   ]
  },
  {
   "cell_type": "code",
   "execution_count": 6,
   "metadata": {
    "execution": {
     "iopub.execute_input": "2020-10-19T14:17:46.945080Z",
     "iopub.status.busy": "2020-10-19T14:17:46.944278Z",
     "iopub.status.idle": "2020-10-19T14:17:46.967034Z",
     "shell.execute_reply": "2020-10-19T14:17:46.966237Z"
    },
    "papermill": {
     "duration": 0.04692,
     "end_time": "2020-10-19T14:17:46.967165",
     "exception": false,
     "start_time": "2020-10-19T14:17:46.920245",
     "status": "completed"
    },
    "tags": []
   },
   "outputs": [],
   "source": [
    "X_train,X_val,y_train,y_val = train_test_split(X_vectorized,y,test_size=.3,shuffle=True, stratify=y, random_state=11)"
   ]
  },
  {
   "cell_type": "markdown",
   "metadata": {
    "papermill": {
     "duration": 0.017384,
     "end_time": "2020-10-19T14:17:47.002311",
     "exception": false,
     "start_time": "2020-10-19T14:17:46.984927",
     "status": "completed"
    },
    "tags": []
   },
   "source": [
    "# **Training the model and evaluating using the validation set**"
   ]
  },
  {
   "cell_type": "code",
   "execution_count": 7,
   "metadata": {
    "execution": {
     "iopub.execute_input": "2020-10-19T14:17:47.045816Z",
     "iopub.status.busy": "2020-10-19T14:17:47.045035Z",
     "iopub.status.idle": "2020-10-19T14:18:15.638604Z",
     "shell.execute_reply": "2020-10-19T14:18:15.637860Z"
    },
    "papermill": {
     "duration": 28.617859,
     "end_time": "2020-10-19T14:18:15.638746",
     "exception": false,
     "start_time": "2020-10-19T14:17:47.020887",
     "status": "completed"
    },
    "tags": []
   },
   "outputs": [],
   "source": [
    "randomfc = RandomForestClassifier()\n",
    "randomfc.fit(X_train, y_train)\n",
    "rfc_pred = randomfc.predict(X_val)"
   ]
  },
  {
   "cell_type": "markdown",
   "metadata": {
    "papermill": {
     "duration": 0.017825,
     "end_time": "2020-10-19T14:18:15.675205",
     "exception": false,
     "start_time": "2020-10-19T14:18:15.657380",
     "status": "completed"
    },
    "tags": []
   },
   "source": [
    "# **Checking the performance of our model on the validation set**"
   ]
  },
  {
   "cell_type": "code",
   "execution_count": 8,
   "metadata": {
    "execution": {
     "iopub.execute_input": "2020-10-19T14:18:15.717995Z",
     "iopub.status.busy": "2020-10-19T14:18:15.716845Z",
     "iopub.status.idle": "2020-10-19T14:18:15.726270Z",
     "shell.execute_reply": "2020-10-19T14:18:15.725500Z"
    },
    "papermill": {
     "duration": 0.033091,
     "end_time": "2020-10-19T14:18:15.726394",
     "exception": false,
     "start_time": "2020-10-19T14:18:15.693303",
     "status": "completed"
    },
    "tags": []
   },
   "outputs": [
    {
     "data": {
      "text/plain": [
       "0.5510779426329242"
      ]
     },
     "execution_count": 8,
     "metadata": {},
     "output_type": "execute_result"
    }
   ],
   "source": [
    "f1_score(y_val, rfc_pred, average=\"macro\")"
   ]
  },
  {
   "cell_type": "markdown",
   "metadata": {
    "papermill": {
     "duration": 0.019198,
     "end_time": "2020-10-19T14:18:15.765433",
     "exception": false,
     "start_time": "2020-10-19T14:18:15.746235",
     "status": "completed"
    },
    "tags": []
   },
   "source": [
    "# **Getting our test set ready**"
   ]
  },
  {
   "cell_type": "code",
   "execution_count": 9,
   "metadata": {
    "execution": {
     "iopub.execute_input": "2020-10-19T14:18:15.825407Z",
     "iopub.status.busy": "2020-10-19T14:18:15.814973Z",
     "iopub.status.idle": "2020-10-19T14:18:16.355444Z",
     "shell.execute_reply": "2020-10-19T14:18:16.356100Z"
    },
    "papermill": {
     "duration": 0.571652,
     "end_time": "2020-10-19T14:18:16.356259",
     "exception": false,
     "start_time": "2020-10-19T14:18:15.784607",
     "status": "completed"
    },
    "tags": []
   },
   "outputs": [],
   "source": [
    "x_test = test['message']\n",
    "test_vect = vectorizer.transform(x_test)"
   ]
  },
  {
   "cell_type": "markdown",
   "metadata": {
    "papermill": {
     "duration": 0.018734,
     "end_time": "2020-10-19T14:18:16.394313",
     "exception": false,
     "start_time": "2020-10-19T14:18:16.375579",
     "status": "completed"
    },
    "tags": []
   },
   "source": [
    "# **Making predictions on the test set and adding a sentiment column to our original test dataframe**"
   ]
  },
  {
   "cell_type": "code",
   "execution_count": 10,
   "metadata": {
    "execution": {
     "iopub.execute_input": "2020-10-19T14:18:16.440066Z",
     "iopub.status.busy": "2020-10-19T14:18:16.438588Z",
     "iopub.status.idle": "2020-10-19T14:18:17.315995Z",
     "shell.execute_reply": "2020-10-19T14:18:17.314969Z"
    },
    "papermill": {
     "duration": 0.903202,
     "end_time": "2020-10-19T14:18:17.316188",
     "exception": false,
     "start_time": "2020-10-19T14:18:16.412986",
     "status": "completed"
    },
    "tags": []
   },
   "outputs": [],
   "source": [
    "y_pred = randomfc.predict(test_vect)"
   ]
  },
  {
   "cell_type": "code",
   "execution_count": 11,
   "metadata": {
    "execution": {
     "iopub.execute_input": "2020-10-19T14:18:17.367358Z",
     "iopub.status.busy": "2020-10-19T14:18:17.366292Z",
     "iopub.status.idle": "2020-10-19T14:18:17.369594Z",
     "shell.execute_reply": "2020-10-19T14:18:17.370140Z"
    },
    "papermill": {
     "duration": 0.028823,
     "end_time": "2020-10-19T14:18:17.370303",
     "exception": false,
     "start_time": "2020-10-19T14:18:17.341480",
     "status": "completed"
    },
    "tags": []
   },
   "outputs": [],
   "source": [
    "test['sentiment'] = y_pred"
   ]
  },
  {
   "cell_type": "code",
   "execution_count": 12,
   "metadata": {
    "execution": {
     "iopub.execute_input": "2020-10-19T14:18:17.417701Z",
     "iopub.status.busy": "2020-10-19T14:18:17.416893Z",
     "iopub.status.idle": "2020-10-19T14:18:17.426597Z",
     "shell.execute_reply": "2020-10-19T14:18:17.425818Z"
    },
    "papermill": {
     "duration": 0.037331,
     "end_time": "2020-10-19T14:18:17.426726",
     "exception": false,
     "start_time": "2020-10-19T14:18:17.389395",
     "status": "completed"
    },
    "tags": []
   },
   "outputs": [
    {
     "data": {
      "text/html": [
       "<div>\n",
       "<style scoped>\n",
       "    .dataframe tbody tr th:only-of-type {\n",
       "        vertical-align: middle;\n",
       "    }\n",
       "\n",
       "    .dataframe tbody tr th {\n",
       "        vertical-align: top;\n",
       "    }\n",
       "\n",
       "    .dataframe thead th {\n",
       "        text-align: right;\n",
       "    }\n",
       "</style>\n",
       "<table border=\"1\" class=\"dataframe\">\n",
       "  <thead>\n",
       "    <tr style=\"text-align: right;\">\n",
       "      <th></th>\n",
       "      <th>message</th>\n",
       "      <th>tweetid</th>\n",
       "      <th>sentiment</th>\n",
       "    </tr>\n",
       "  </thead>\n",
       "  <tbody>\n",
       "    <tr>\n",
       "      <th>0</th>\n",
       "      <td>Europe will now be looking to China to make su...</td>\n",
       "      <td>169760</td>\n",
       "      <td>1</td>\n",
       "    </tr>\n",
       "    <tr>\n",
       "      <th>1</th>\n",
       "      <td>Combine this with the polling of staffers re c...</td>\n",
       "      <td>35326</td>\n",
       "      <td>1</td>\n",
       "    </tr>\n",
       "    <tr>\n",
       "      <th>2</th>\n",
       "      <td>The scary, unimpeachable evidence that climate...</td>\n",
       "      <td>224985</td>\n",
       "      <td>1</td>\n",
       "    </tr>\n",
       "    <tr>\n",
       "      <th>3</th>\n",
       "      <td>@Karoli @morgfair @OsborneInk @dailykos \\nPuti...</td>\n",
       "      <td>476263</td>\n",
       "      <td>1</td>\n",
       "    </tr>\n",
       "    <tr>\n",
       "      <th>4</th>\n",
       "      <td>RT @FakeWillMoore: 'Female orgasms cause globa...</td>\n",
       "      <td>872928</td>\n",
       "      <td>0</td>\n",
       "    </tr>\n",
       "  </tbody>\n",
       "</table>\n",
       "</div>"
      ],
      "text/plain": [
       "                                             message  tweetid  sentiment\n",
       "0  Europe will now be looking to China to make su...   169760          1\n",
       "1  Combine this with the polling of staffers re c...    35326          1\n",
       "2  The scary, unimpeachable evidence that climate...   224985          1\n",
       "3  @Karoli @morgfair @OsborneInk @dailykos \\nPuti...   476263          1\n",
       "4  RT @FakeWillMoore: 'Female orgasms cause globa...   872928          0"
      ]
     },
     "execution_count": 12,
     "metadata": {},
     "output_type": "execute_result"
    }
   ],
   "source": [
    "test.head()"
   ]
  },
  {
   "cell_type": "markdown",
   "metadata": {
    "papermill": {
     "duration": 0.020472,
     "end_time": "2020-10-19T14:18:17.467400",
     "exception": false,
     "start_time": "2020-10-19T14:18:17.446928",
     "status": "completed"
    },
    "tags": []
   },
   "source": [
    "# **Creating an output csv for submission**"
   ]
  },
  {
   "cell_type": "code",
   "execution_count": 13,
   "metadata": {
    "execution": {
     "iopub.execute_input": "2020-10-19T14:18:17.515154Z",
     "iopub.status.busy": "2020-10-19T14:18:17.514186Z",
     "iopub.status.idle": "2020-10-19T14:18:17.867863Z",
     "shell.execute_reply": "2020-10-19T14:18:17.867010Z"
    },
    "papermill": {
     "duration": 0.379593,
     "end_time": "2020-10-19T14:18:17.868000",
     "exception": false,
     "start_time": "2020-10-19T14:18:17.488407",
     "status": "completed"
    },
    "tags": []
   },
   "outputs": [],
   "source": [
    "test[['tweetid','sentiment']].to_csv('test_submission.csv', index=False)"
   ]
  },
  {
   "cell_type": "code",
   "execution_count": null,
   "metadata": {
    "papermill": {
     "duration": 0.020336,
     "end_time": "2020-10-19T14:18:17.910182",
     "exception": false,
     "start_time": "2020-10-19T14:18:17.889846",
     "status": "completed"
    },
    "tags": []
   },
   "outputs": [],
   "source": []
  }
 ],
 "metadata": {
  "kernelspec": {
   "display_name": "Python 3",
   "language": "python",
   "name": "python3"
  },
  "language_info": {
   "codemirror_mode": {
    "name": "ipython",
    "version": 3
   },
   "file_extension": ".py",
   "mimetype": "text/x-python",
   "name": "python",
   "nbconvert_exporter": "python",
   "pygments_lexer": "ipython3",
   "version": "3.7.6"
  },
  "papermill": {
   "duration": 41.424528,
   "end_time": "2020-10-19T14:18:18.041176",
   "environment_variables": {},
   "exception": null,
   "input_path": "__notebook__.ipynb",
   "output_path": "__notebook__.ipynb",
   "parameters": {},
   "start_time": "2020-10-19T14:17:36.616648",
   "version": "2.1.0"
  }
 },
 "nbformat": 4,
 "nbformat_minor": 4
}
